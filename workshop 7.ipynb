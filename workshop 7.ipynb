#!/usr/bin/env python
# coding: utf-8

# In[57]:


import pandas as pd
import numpy as np
lista=[["Anastasiya",12.5,1,"yes","a"],["Dima",9,3,"no","b",],
      ["Katherine",16.5,2,"yes","c"],["James",np.nan,3,"no","d"],
      ["Emily",9,2,"no","e"],["Michael",20,3,"yes","f"],
      ["Matthew",14.5,1,"yes","g"],["Laura",np.nan,1,"no","h"],
      ["Kevin",8,2,"no","i"],["Jonas",19,1,"yes","j"]]
exam_data=pd.DataFrame(lista,columns=['name',"score","attempts","qualification","labels"])
exam_data.dropna(subset = ["score"], inplace=True)
threefirstrows=exam_data.head(3)
extracted_rows=exam_data[["name","score"]]
k = {'name':'Suresh', 'score':15.5, 'attempts':1, 'qualification':"yes","labels":"k"}
exam_data= exam_data.append(k,ignore_index=True)
exam_data= exam_data.drop("attempts",axis= 1)
x=np.array(exam_data["score"])
x[x<10]=0
x[x>=10]=1
d=x.tolist()
exam_data["success"]=d
exam_data.to_csv("my_data")
my_data=pd.read_csv('my_data')


            





# In[ ]:




